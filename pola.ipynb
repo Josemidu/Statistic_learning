{
  "nbformat": 4,
  "nbformat_minor": 0,
  "metadata": {
    "colab": {
      "name": "pola.ipynb",
      "provenance": [],
      "collapsed_sections": []
    },
    "kernelspec": {
      "name": "python3",
      "display_name": "Python 3"
    },
    "language_info": {
      "name": "python"
    }
  },
  "cells": [
    {
      "cell_type": "markdown",
      "metadata": {
        "id": "fe0rhiEHkGA5"
      },
      "source": [
        "##Probability distribution application for herp owners##\n",
        "\n",
        "So my leopard gecko apparently got sick last month and I was suspecting of a respiratory issue because I noticed an increased breath rate. The exotic veterinary told me to keep monitoring breath rates to discard or medicate a respiratory infection before it was too late.\n",
        "\n",
        "As a matter of \"benchmarking\", my vet estimated between 9 and 11 breaths per minute are considered \"normal\" based on his experience. He told me anything greater than that should be a concern. However, I noticed my leopard gecko's BR (breath rate for short) was oscilating in and out the interval my vet gave me. \n",
        "\n",
        "So I wondered, how likely were these values based on a probability distribution. Also, what was a normal time interval between breaths. So I wanted to know:\n",
        "\n",
        "1. What would a normal BR look like? Is my leopard gecko doing ok even though I got values out of the vet's interval? Does she need a medical intervention ASAP? \n",
        "\n",
        "Well, even if my gecko was sick or not I did book an appointment. It's never a bad idea to have your pets checked once a while. But in the meantime, I wanted to analyze the data in a more scientific way. I couldn't wait until my vet checked up on her so I decided to get some data and analyze it (that's what my profession is about after all). My first guess was to approach this problem with a Poisson distribution. We'd need a theoretical Lambda and then visualize the distribution. For this case, I'll simply take the middle of my vet's interval. \n",
        "\n",
        " λ = 10 breaths per minute of a healthy gecko.\n",
        "\n",
        " Also let X be the number of breaths in a minute period."
      ]
    },
    {
      "cell_type": "code",
      "metadata": {
        "id": "NGTf2Mnmqawj"
      },
      "source": [
        "from scipy.stats import poisson, kurtosis, skew\n",
        "import numpy as np\n",
        "import pandas as pd\n",
        "import matplotlib.pyplot as plt"
      ],
      "execution_count": 1,
      "outputs": []
    },
    {
      "cell_type": "code",
      "metadata": {
        "colab": {
          "base_uri": "https://localhost:8080/",
          "height": 298
        },
        "id": "IROTO1u9rAXn",
        "outputId": "1fc3333f-b230-48be-d779-651869ceca9b"
      },
      "source": [
        "fig, ax = plt.subplots(1,1)\n",
        "mu = np.mean([7,13])\n",
        "x = np.arange(poisson.ppf(0.01, mu),\n",
        "              poisson.ppf(0.99, mu))\n",
        "\n",
        "ax.plot(x, poisson.pmf(x,mu), 'bo', ms = 4)\n",
        "ax.vlines(x, 0, poisson.pmf(x,mu), colors = 'b', alpha = 0.5)\n",
        "plt.title('Leopard Gecko Breath rate distribution')"
      ],
      "execution_count": 2,
      "outputs": [
        {
          "output_type": "execute_result",
          "data": {
            "text/plain": [
              "Text(0.5, 1.0, 'Leopard Gecko Breath rate distribution')"
            ]
          },
          "metadata": {},
          "execution_count": 2
        },
        {
          "output_type": "display_data",
          "data": {
            "image/png": "[encoded data removed]",
            "text/plain": [
              "<Figure size 432x288 with 1 Axes>"
            ]
          },
          "metadata": {
            "needs_background": "light"
          }
        }
      ]
    },
    {
      "cell_type": "markdown",
      "metadata": {
        "id": "0zILk_qHtR6K"
      },
      "source": [
        "Now that we've modeled a leopard gecko breath rate distribution, let's use it to fit my leopard gecko's BR data. First, some EDA. Here´s my leopard gecko BR rate during a month. "
      ]
    },
    {
      "cell_type": "code",
      "metadata": {
        "colab": {
          "base_uri": "https://localhost:8080/",
          "height": 1000
        },
        "id": "ifqxv7tDsRgW",
        "outputId": "eb5c627f-7282-4ee2-dd17-5b31a256307d"
      },
      "source": [
        "Br = [10,9,12,6,11,9,9,9,10,14,11,12,12,10,14,12,\n",
        "      13,9,10,12,12,14,12,9,12,11,10,11,9,12,7]\n",
        "data = pd.DataFrame({\n",
        "    'day': list(range(1,32)),\n",
        "    'BR': Br\n",
        "    })\n",
        "data.set_index('day',inplace=True)\n",
        "data"
      ],
      "execution_count": 46,
      "outputs": [
        {
          "output_type": "execute_result",
          "data": {
            "text/html": [
              "<div>\n",
              "<style scoped>\n",
              "    .dataframe tbody tr th:only-of-type {\n",
              "        vertical-align: middle;\n",
              "    }\n",
              "\n",
              "    .dataframe tbody tr th {\n",
              "        vertical-align: top;\n",
              "    }\n",
              "\n",
              "    .dataframe thead th {\n",
              "        text-align: right;\n",
              "    }\n",
              "</style>\n",
              "<table border=\"1\" class=\"dataframe\">\n",
              "  <thead>\n",
              "    <tr style=\"text-align: right;\">\n",
              "      <th></th>\n",
              "      <th>BR</th>\n",
              "    </tr>\n",
              "    <tr>\n",
              "      <th>day</th>\n",
              "      <th></th>\n",
              "    </tr>\n",
              "  </thead>\n",
              "  <tbody>\n",
              "    <tr>\n",
              "      <th>1</th>\n",
              "      <td>10</td>\n",
              "    </tr>\n",
              "    <tr>\n",
              "      <th>2</th>\n",
              "      <td>9</td>\n",
              "    </tr>\n",
              "    <tr>\n",
              "      <th>3</th>\n",
              "      <td>12</td>\n",
              "    </tr>\n",
              "    <tr>\n",
              "      <th>4</th>\n",
              "      <td>6</td>\n",
              "    </tr>\n",
              "    <tr>\n",
              "      <th>5</th>\n",
              "      <td>11</td>\n",
              "    </tr>\n",
              "    <tr>\n",
              "      <th>6</th>\n",
              "      <td>9</td>\n",
              "    </tr>\n",
              "    <tr>\n",
              "      <th>7</th>\n",
              "      <td>9</td>\n",
              "    </tr>\n",
              "    <tr>\n",
              "      <th>8</th>\n",
              "      <td>9</td>\n",
              "    </tr>\n",
              "    <tr>\n",
              "      <th>9</th>\n",
              "      <td>10</td>\n",
              "    </tr>\n",
              "    <tr>\n",
              "      <th>10</th>\n",
              "      <td>14</td>\n",
              "    </tr>\n",
              "    <tr>\n",
              "      <th>11</th>\n",
              "      <td>11</td>\n",
              "    </tr>\n",
              "    <tr>\n",
              "      <th>12</th>\n",
              "      <td>12</td>\n",
              "    </tr>\n",
              "    <tr>\n",
              "      <th>13</th>\n",
              "      <td>12</td>\n",
              "    </tr>\n",
              "    <tr>\n",
              "      <th>14</th>\n",
              "      <td>10</td>\n",
              "    </tr>\n",
              "    <tr>\n",
              "      <th>15</th>\n",
              "      <td>14</td>\n",
              "    </tr>\n",
              "    <tr>\n",
              "      <th>16</th>\n",
              "      <td>12</td>\n",
              "    </tr>\n",
              "    <tr>\n",
              "      <th>17</th>\n",
              "      <td>13</td>\n",
              "    </tr>\n",
              "    <tr>\n",
              "      <th>18</th>\n",
              "      <td>9</td>\n",
              "    </tr>\n",
              "    <tr>\n",
              "      <th>19</th>\n",
              "      <td>10</td>\n",
              "    </tr>\n",
              "    <tr>\n",
              "      <th>20</th>\n",
              "      <td>12</td>\n",
              "    </tr>\n",
              "    <tr>\n",
              "      <th>21</th>\n",
              "      <td>12</td>\n",
              "    </tr>\n",
              "    <tr>\n",
              "      <th>22</th>\n",
              "      <td>14</td>\n",
              "    </tr>\n",
              "    <tr>\n",
              "      <th>23</th>\n",
              "      <td>12</td>\n",
              "    </tr>\n",
              "    <tr>\n",
              "      <th>24</th>\n",
              "      <td>9</td>\n",
              "    </tr>\n",
              "    <tr>\n",
              "      <th>25</th>\n",
              "      <td>12</td>\n",
              "    </tr>\n",
              "    <tr>\n",
              "      <th>26</th>\n",
              "      <td>11</td>\n",
              "    </tr>\n",
              "    <tr>\n",
              "      <th>27</th>\n",
              "      <td>10</td>\n",
              "    </tr>\n",
              "    <tr>\n",
              "      <th>28</th>\n",
              "      <td>11</td>\n",
              "    </tr>\n",
              "    <tr>\n",
              "      <th>29</th>\n",
              "      <td>9</td>\n",
              "    </tr>\n",
              "    <tr>\n",
              "      <th>30</th>\n",
              "      <td>12</td>\n",
              "    </tr>\n",
              "    <tr>\n",
              "      <th>31</th>\n",
              "      <td>7</td>\n",
              "    </tr>\n",
              "  </tbody>\n",
              "</table>\n",
              "</div>"
            ],
            "text/plain": [
              "     BR\n",
              "day    \n",
              "1    10\n",
              "2     9\n",
              "3    12\n",
              "4     6\n",
              "5    11\n",
              "6     9\n",
              "7     9\n",
              "8     9\n",
              "9    10\n",
              "10   14\n",
              "11   11\n",
              "12   12\n",
              "13   12\n",
              "14   10\n",
              "15   14\n",
              "16   12\n",
              "17   13\n",
              "18    9\n",
              "19   10\n",
              "20   12\n",
              "21   12\n",
              "22   14\n",
              "23   12\n",
              "24    9\n",
              "25   12\n",
              "26   11\n",
              "27   10\n",
              "28   11\n",
              "29    9\n",
              "30   12\n",
              "31    7"
            ]
          },
          "metadata": {},
          "execution_count": 46
        }
      ]
    },
    {
      "cell_type": "code",
      "metadata": {
        "colab": {
          "base_uri": "https://localhost:8080/",
          "height": 281
        },
        "id": "ALWd-lxSvd8K",
        "outputId": "6b801d20-3680-4d51-bb24-5b89dc2f4953"
      },
      "source": [
        "plt.plot(data.index, data.BR, c = 'xkcd:lightish blue')\n",
        "ax.set_xticks(ax.get_xticks()[::3])\n",
        "ax.spines['top'].set_visible(False)\n",
        "ax.spines['right'].set_visible(False)\n",
        "plt.title(\"Pola's BR along time\")\n",
        "plt.show()"
      ],
      "execution_count": 47,
      "outputs": [
        {
          "output_type": "display_data",
          "data": {
            "image/png": "[encoded data removed]",
            "text/plain": [
              "<Figure size 432x288 with 1 Axes>"
            ]
          },
          "metadata": {
            "needs_background": "light"
          }
        }
      ]
    },
    {
      "cell_type": "code",
      "metadata": {
        "colab": {
          "base_uri": "https://localhost:8080/",
          "height": 298
        },
        "id": "KgMo-WL34bAX",
        "outputId": "934b3c4d-e92b-47ae-fa9e-69c35d966c85"
      },
      "source": [
        "plt.boxplot(data.BR,showmeans= True)\n",
        "plt.title('BR distribution')"
      ],
      "execution_count": 48,
      "outputs": [
        {
          "output_type": "execute_result",
          "data": {
            "text/plain": [
              "Text(0.5, 1.0, 'BR distribution')"
            ]
          },
          "metadata": {},
          "execution_count": 48
        },
        {
          "output_type": "display_data",
          "data": {
            "image/png": "[encoded data removed]",
            "text/plain": [
              "<Figure size 432x288 with 1 Axes>"
            ]
          },
          "metadata": {
            "needs_background": "light"
          }
        }
      ]
    },
    {
      "cell_type": "code",
      "metadata": {
        "colab": {
          "base_uri": "https://localhost:8080/",
          "height": 298
        },
        "id": "Tbu-ZJTS_XBX",
        "outputId": "69fdc92e-80bf-4c57-e3b2-78dc10a279a7"
      },
      "source": [
        "plt.hist(data.BR)\n",
        "plt.title('BR distribution')"
      ],
      "execution_count": 49,
      "outputs": [
        {
          "output_type": "execute_result",
          "data": {
            "text/plain": [
              "Text(0.5, 1.0, 'BR distribution')"
            ]
          },
          "metadata": {},
          "execution_count": 49
        },
        {
          "output_type": "display_data",
          "data": {
            "image/png": "[encoded data removed]",
            "text/plain": [
              "<Figure size 432x288 with 1 Axes>"
            ]
          },
          "metadata": {
            "needs_background": "light"
          }
        }
      ]
    },
    {
      "cell_type": "code",
      "metadata": {
        "colab": {
          "base_uri": "https://localhost:8080/",
          "height": 295
        },
        "id": "iMKdbFbh4GYW",
        "outputId": "ed030f98-9b80-486b-f9cf-1c1fd274e47c"
      },
      "source": [
        "data.describe()"
      ],
      "execution_count": 50,
      "outputs": [
        {
          "output_type": "execute_result",
          "data": {
            "text/html": [
              "<div>\n",
              "<style scoped>\n",
              "    .dataframe tbody tr th:only-of-type {\n",
              "        vertical-align: middle;\n",
              "    }\n",
              "\n",
              "    .dataframe tbody tr th {\n",
              "        vertical-align: top;\n",
              "    }\n",
              "\n",
              "    .dataframe thead th {\n",
              "        text-align: right;\n",
              "    }\n",
              "</style>\n",
              "<table border=\"1\" class=\"dataframe\">\n",
              "  <thead>\n",
              "    <tr style=\"text-align: right;\">\n",
              "      <th></th>\n",
              "      <th>BR</th>\n",
              "    </tr>\n",
              "  </thead>\n",
              "  <tbody>\n",
              "    <tr>\n",
              "      <th>count</th>\n",
              "      <td>31.000000</td>\n",
              "    </tr>\n",
              "    <tr>\n",
              "      <th>mean</th>\n",
              "      <td>10.741935</td>\n",
              "    </tr>\n",
              "    <tr>\n",
              "      <th>std</th>\n",
              "      <td>1.931627</td>\n",
              "    </tr>\n",
              "    <tr>\n",
              "      <th>min</th>\n",
              "      <td>6.000000</td>\n",
              "    </tr>\n",
              "    <tr>\n",
              "      <th>25%</th>\n",
              "      <td>9.000000</td>\n",
              "    </tr>\n",
              "    <tr>\n",
              "      <th>50%</th>\n",
              "      <td>11.000000</td>\n",
              "    </tr>\n",
              "    <tr>\n",
              "      <th>75%</th>\n",
              "      <td>12.000000</td>\n",
              "    </tr>\n",
              "    <tr>\n",
              "      <th>max</th>\n",
              "      <td>14.000000</td>\n",
              "    </tr>\n",
              "  </tbody>\n",
              "</table>\n",
              "</div>"
            ],
            "text/plain": [
              "              BR\n",
              "count  31.000000\n",
              "mean   10.741935\n",
              "std     1.931627\n",
              "min     6.000000\n",
              "25%     9.000000\n",
              "50%    11.000000\n",
              "75%    12.000000\n",
              "max    14.000000"
            ]
          },
          "metadata": {},
          "execution_count": 50
        }
      ]
    },
    {
      "cell_type": "code",
      "metadata": {
        "colab": {
          "base_uri": "https://localhost:8080/"
        },
        "id": "UWNCP_Wt6t45",
        "outputId": "66ada008-7fd8-403e-8e73-423fb5675b2f"
      },
      "source": [
        "print('Kurtosis ------> {}'.format(kurtosis(data.BR)))\n",
        "print('Skewness ------> {}'.format(skew(data.BR)))"
      ],
      "execution_count": 51,
      "outputs": [
        {
          "output_type": "stream",
          "name": "stdout",
          "text": [
            "Kurtosis ------> -0.14424420101487279\n",
            "Skewness ------> -0.3046873276464194\n"
          ]
        }
      ]
    },
    {
      "cell_type": "markdown",
      "metadata": {
        "id": "vN4Zr8CL8s5M"
      },
      "source": [
        "So 50% of the times my leopard gecko was between the vet's intervals. Ok cool, but what about the other half of the data. Does it mean my lizard is sick? Is there enough evidence to support such affirmation?\n",
        "\n",
        "I think it's time to bring hypothesis testing into action.\n",
        "Remember for this experiment, \n",
        "  \n",
        "    λ = 10 breaths per minute of a healthy gecko\n",
        "    And let X be the number of breaths in a minute period.\n",
        "    Therefore,\n",
        "    X ~ Poisson(λ)\n",
        "Now will formulate the null and the alternative hypothesis for this experiment. We want to prove:\n",
        "\n",
        "    Ho : λ = 10\n",
        "    Ha : λ > 10\n",
        "\n",
        "And so if our data doesn't happen to be within λ, it would be safe to say my leopard gecko is having a higher BR than normal and needs a medical intervention ASAP. To do that, we will get:\n",
        "\n",
        "    P[X=> mean]\n",
        "    P[X=> median]\n",
        "    P[X=> max]\n",
        "    \n",
        "    alpha = 0.05\n"
      ]
    },
    {
      "cell_type": "code",
      "metadata": {
        "colab": {
          "base_uri": "https://localhost:8080/"
        },
        "id": "RNDdKrYT-V_x",
        "outputId": "8101a2d0-dc13-45c9-b201-41033a52393c"
      },
      "source": [
        "df = data.copy()\n",
        "def poisson_test(stat, mu, alpha = 0.05):\n",
        "  p_value = 1 - poisson.cdf(stat, mu)\n",
        "  if p_value < alpha: return True, p_value\n",
        "  else: return False, p_value\n",
        "\n",
        "stats = [np.mean(df.BR),np.median(df.BR), max(df.BR)]\n",
        "tests = [poisson_test(int(stat), mu) for stat in stats]\n",
        "stats, tests"
      ],
      "execution_count": 66,
      "outputs": [
        {
          "output_type": "execute_result",
          "data": {
            "text/plain": [
              "([10.741935483870968, 11.0, 14],\n",
              " [(False, 0.41696024980701485),\n",
              "  (False, 0.30322385369689386),\n",
              "  (False, 0.0834584729346628)])"
            ]
          },
          "metadata": {},
          "execution_count": 66
        }
      ]
    },
    {
      "cell_type": "code",
      "metadata": {
        "id": "dMtQw0_l_pQF",
        "colab": {
          "base_uri": "https://localhost:8080/"
        },
        "outputId": "bf1e87e5-fc44-4326-b508-184eef6cb075"
      },
      "source": [
        "if any(list(zip(*tests))[0]):\n",
        "  print('Reject null hypothesis')\n",
        "else:\n",
        "  print(\"Accept null hypothesis\")"
      ],
      "execution_count": 64,
      "outputs": [
        {
          "output_type": "stream",
          "name": "stdout",
          "text": [
            "Accept null hypothesis\n"
          ]
        }
      ]
    },
    {
      "cell_type": "markdown",
      "metadata": {
        "id": "xq723-L7JwAC"
      },
      "source": [
        "Finally, we were able to test the mean, the median and the maximum value in our data. Neither of these provided a p value less than 0.05. So we accept the null hypothesis meaning there is no evidence to support the idea my gecko's BR is unusual.\n",
        "\n",
        "Now I will sit tight and wait until the appointment comes. I'll show him this analysis and I might as well land a job there... Just kidding I have no intentions of leaving marketing and logistics as a my expertise domain! One thing is for sure, statistics is the mother of all sciences tho!"
      ]
    }
  ]
}